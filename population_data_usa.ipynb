{
 "cells": [
  {
   "cell_type": "code",
   "execution_count": 41,
   "metadata": {
    "collapsed": false
   },
   "outputs": [
    {
     "data": {
      "text/html": [
       "\n",
       "           <script>\n",
       "               \n",
       "                function vct_load_lib(url, callback){\n",
       "                      if(typeof d3 !== 'undefined' &&\n",
       "                         url === 'http://d3js.org/d3.v3.min.js'){\n",
       "                        callback()\n",
       "                      }\n",
       "                      var s = document.createElement('script');\n",
       "                      s.src = url;\n",
       "                      s.async = true;\n",
       "                      s.onreadystatechange = s.onload = callback;\n",
       "                      s.onerror = function(){\n",
       "                        console.warn(\"failed to load library \" + url);\n",
       "                        };\n",
       "                      document.getElementsByTagName(\"head\")[0].appendChild(s);\n",
       "                };\n",
       "                var vincent_event = new CustomEvent(\n",
       "                  \"vincent_libs_loaded\",\n",
       "                  {bubbles: true, cancelable: true}\n",
       "                );\n",
       "                \n",
       "               function load_all_libs(){\n",
       "                  console.log('Loading Vincent libs...')\n",
       "                  vct_load_lib('http://d3js.org/d3.v3.min.js', function(){\n",
       "                  vct_load_lib('http://d3js.org/d3.geo.projection.v0.min.js', function(){\n",
       "                  vct_load_lib('http://wrobstory.github.io/d3-cloud/d3.layout.cloud.js', function(){\n",
       "                  vct_load_lib('http://wrobstory.github.io/vega/vega.v1.3.3.js', function(){\n",
       "                  window.dispatchEvent(vincent_event);\n",
       "                  });\n",
       "                  });\n",
       "                  });\n",
       "                  });\n",
       "               };\n",
       "               if(typeof define === \"function\" && define.amd){\n",
       "                    if (window['d3'] === undefined ||\n",
       "                        window['topojson'] === undefined){\n",
       "                        require.config(\n",
       "                            {paths: {\n",
       "                              d3: 'http://d3js.org/d3.v3.min',\n",
       "                              topojson: 'http://d3js.org/topojson.v1.min'\n",
       "                              }\n",
       "                            }\n",
       "                          );\n",
       "                        require([\"d3\"], function(d3){\n",
       "                            console.log('Loading Vincent from require.js...')\n",
       "                            window.d3 = d3;\n",
       "                            require([\"topojson\"], function(topojson){\n",
       "                                window.topojson = topojson;\n",
       "                                load_all_libs();\n",
       "                            });\n",
       "                        });\n",
       "                    } else {\n",
       "                        load_all_libs();\n",
       "                    };\n",
       "               }else{\n",
       "                    console.log('Require.js not found, loading manually...')\n",
       "                    load_all_libs();\n",
       "               };\n",
       "\n",
       "           </script>"
      ],
      "text/plain": [
       "<IPython.core.display.HTML object>"
      ]
     },
     "metadata": {},
     "output_type": "display_data"
    }
   ],
   "source": [
    "#module dependencies\n",
    "import os\n",
    "import codecs\n",
    "import pandas as pd\n",
    "import csv\n",
    "import vincent\n",
    "import locale\n",
    "from vincent import *\n",
    "from IPython.core.display import HTML\n",
    "vincent.core.initialize_notebook()"
   ]
  },
  {
   "cell_type": "code",
   "execution_count": 42,
   "metadata": {
    "collapsed": true
   },
   "outputs": [],
   "source": [
    "\"\"\"\n",
    "Creates a pandas dataFrame from a state data file and converts strings to ints.\n",
    "filename must be a csv file.\n",
    "\"\"\"\n",
    "def create_dataframe():\n",
    "    filename = \"/state_population_data_2007_to_2015.txt\"\n",
    "    column_names = ['state','2008','2009','2010','2011','2012','2013','2014','2015']\n",
    "    pandas_dataframe = parse_data(filename,column_names)\n",
    "\n",
    "    ## covert all the populations of form 4,123,456 to 4123456\n",
    "    pandas_dataframe['2008'] = list(map(lambda number : int(number.replace(',', '')),pandas_dataframe['2008']))\n",
    "    pandas_dataframe['2009'] = list(map(lambda number : int(number.replace(',', '')),pandas_dataframe['2009']))\n",
    "    pandas_dataframe['2010'] = list(map(lambda number : int(number.replace(',', '')),pandas_dataframe['2010']))\n",
    "    pandas_dataframe['2011'] = list(map(lambda number : int(number.replace(',', '')),pandas_dataframe['2011']))\n",
    "    pandas_dataframe['2012'] = list(map(lambda number : int(number.replace(',', '')),pandas_dataframe['2012']))\n",
    "    pandas_dataframe['2013'] = list(map(lambda number : int(number.replace(',', '')),pandas_dataframe['2013']))\n",
    "    pandas_dataframe['2014'] = list(map(lambda number : int(number.replace(',', '')),pandas_dataframe['2014']))\n",
    "    pandas_dataframe['2015'] = list(map(lambda number : int(number.replace(',', '')),pandas_dataframe['2015']))\n",
    "    return pandas_dataframe\n"
   ]
  },
  {
   "cell_type": "code",
   "execution_count": 43,
   "metadata": {
    "collapsed": true
   },
   "outputs": [],
   "source": [
    "\"\"\"\n",
    "Creates a raw pandas dataFrame from a data file.\n",
    "file must be a csv file.\n",
    "\"\"\"\n",
    "def parse_data(filename, column_names):\n",
    "    infile = codecs.open(os.getcwd() + filename, encoding='UTF-8')\n",
    "    data = list(csv.reader(infile,delimiter = ','))\n",
    "    pandas_dataframe = pd.DataFrame(data, columns = column_names)\n",
    "    return pandas_dataframe"
   ]
  },
  {
   "cell_type": "code",
   "execution_count": 93,
   "metadata": {
    "collapsed": true
   },
   "outputs": [],
   "source": [
    "\"\"\"\n",
    "Creates a vincent map of the United States \n",
    "\"\"\"\n",
    "def create_vincent_us_state_map(year,pandas_dataframe):\n",
    "    geo_data = [{'name': 'states',\n",
    "                 'url': \"https://raw.githubusercontent.com/wrobstory/vincent_map_data/master/us_states.topo.json\",\n",
    "                 'feature': 'us_states.geo'}]\n",
    "\n",
    "    vis = vincent.Map(data = pandas_dataframe, geo_data = geo_data, scale = 800,\n",
    "                      projection = 'albersUsa', data_bind = year, data_key ='state',\n",
    "                      map_key = {'states': 'properties.NAME'})\n",
    "    #Custom threshold scale\n",
    "    vis.scales[0].type='threshold'\n",
    "    vis.marks[0].properties.enter.stroke_opacity = ValueRef(value = 0.5)\n",
    "    vis.scales[0].domain = [600000,100000,3000000,6000000,15000000,20000000,30000000]\n",
    "    vis.legend(title='Total populations for '+year)\n",
    "    vis.to_json('vega.json')\n",
    "    return vis"
   ]
  },
  {
   "cell_type": "code",
   "execution_count": 94,
   "metadata": {
    "collapsed": false
   },
   "outputs": [
    {
     "data": {
      "text/html": [
       "<div id=\"vis2baae32db4dd49fcbc15df1535e7bbc6\"></div>\n",
       "<script>\n",
       "   ( function() {\n",
       "     var _do_plot = function() {\n",
       "       if (typeof vg === 'undefined') {\n",
       "         window.addEventListener('vincent_libs_loaded', _do_plot)\n",
       "         return;\n",
       "       }\n",
       "       vg.parse.spec({\"axes\": [], \"data\": [{\"name\": \"table\", \"values\": [{\"x\": \"Alabama\", \"y\": 4780127}, {\"x\": \"Alaska\", \"y\": 710249}, {\"x\": \"Arizona\", \"y\": 6392307}, {\"x\": \"Arkansas\", \"y\": 2915958}, {\"x\": \"California\", \"y\": 37254503}, {\"x\": \"Colorado\", \"y\": 5029324}, {\"x\": \"Connecticut\", \"y\": 3574118}, {\"x\": \"Delaware\", \"y\": 897936}, {\"x\": \"District of Columbia\", \"y\": 601767}, {\"x\": \"Florida\", \"y\": 18804623}, {\"x\": \"Georgia\", \"y\": 9688681}, {\"x\": \"Hawaii\", \"y\": 1360301}, {\"x\": \"Idaho\", \"y\": 1567652}, {\"x\": \"Illinois\", \"y\": 12831549}, {\"x\": \"Indiana\", \"y\": 6484229}, {\"x\": \"Iowa\", \"y\": 3046869}, {\"x\": \"Kansas\", \"y\": 2853132}, {\"x\": \"Kentucky\", \"y\": 4339349}, {\"x\": \"Louisiana\", \"y\": 4533479}, {\"x\": \"Maine\", \"y\": 1328361}, {\"x\": \"Maryland\", \"y\": 5773785}, {\"x\": \"Massachusetts\", \"y\": 6547817}, {\"x\": \"Michigan\", \"y\": 9884129}, {\"x\": \"Minnesota\", \"y\": 5303925}, {\"x\": \"Mississippi\", \"y\": 2968103}, {\"x\": \"Missouri\", \"y\": 5988927}, {\"x\": \"Montana\", \"y\": 989417}, {\"x\": \"Nebraska\", \"y\": 1826341}, {\"x\": \"Nevada\", \"y\": 2700691}, {\"x\": \"New Hampshire\", \"y\": 1316466}, {\"x\": \"New Jersey\", \"y\": 8791936}, {\"x\": \"New Mexico\", \"y\": 2059192}, {\"x\": \"New York\", \"y\": 19378087}, {\"x\": \"North Carolina\", \"y\": 9535692}, {\"x\": \"North Dakota\", \"y\": 672591}, {\"x\": \"Ohio\", \"y\": 11536725}, {\"x\": \"Oklahoma\", \"y\": 3751616}, {\"x\": \"Oregon\", \"y\": 3831073}, {\"x\": \"Pennsylvania\", \"y\": 12702887}, {\"x\": \"Rhode Island\", \"y\": 1052931}, {\"x\": \"South Carolina\", \"y\": 4625401}, {\"x\": \"South Dakota\", \"y\": 814191}, {\"x\": \"Tennessee\", \"y\": 6346275}, {\"x\": \"Texas\", \"y\": 25146105}, {\"x\": \"Utah\", \"y\": 2763888}, {\"x\": \"Vermont\", \"y\": 625745}, {\"x\": \"Virginia\", \"y\": 8001045}, {\"x\": \"Washington\", \"y\": 6724543}, {\"x\": \"West Virginia\", \"y\": 1853011}, {\"x\": \"Wisconsin\", \"y\": 5687289}, {\"x\": \"Wyoming\", \"y\": 563767}]}, {\"format\": {\"feature\": \"us_states.geo\", \"type\": \"topojson\"}, \"name\": \"states\", \"transform\": [{\"as\": \"value\", \"default\": \"noval\", \"key\": \"data.properties.NAME\", \"type\": \"zip\", \"with\": \"table\", \"withKey\": \"data.x\"}, {\"test\": \"d.path!='noval' && d.value!='noval'\", \"type\": \"filter\"}, {\"projection\": \"albersUsa\", \"scale\": 800, \"translate\": [480.0, 250.0], \"type\": \"geopath\", \"value\": \"data\"}], \"url\": \"https://raw.githubusercontent.com/wrobstory/vincent_map_data/master/us_states.topo.json\"}], \"height\": 500, \"legends\": [{\"fill\": \"color\", \"offset\": 0, \"properties\": {}, \"title\": \"Total populations for 2009\"}], \"marks\": [{\"from\": {\"data\": \"states\"}, \"properties\": {\"enter\": {\"path\": {\"field\": \"path\"}, \"stroke\": {\"value\": \"#000000\"}, \"strokeOpacity\": {\"value\": 0.5}}, \"update\": {\"fill\": {\"field\": \"value.data.y\", \"scale\": \"color\"}}}, \"type\": \"path\"}], \"padding\": \"auto\", \"scales\": [{\"domain\": [600000, 100000, 3000000, 6000000, 15000000, 20000000, 30000000], \"name\": \"color\", \"range\": [\"#f7fcf0\", \"#e0f3db\", \"#ccebc5\", \"#a8ddb5\", \"#7bccc4\", \"#4eb3d3\", \"#2b8cbe\", \"#0868ac\", \"#084081\"], \"type\": \"threshold\"}], \"width\": 960}, function(chart) {\n",
       "         chart({el: \"#vis2baae32db4dd49fcbc15df1535e7bbc6\"}).update();\n",
       "       });\n",
       "     };\n",
       "     _do_plot();\n",
       "   })();\n",
       "</script>\n",
       "<style>.vega canvas {width: 100%;}</style>\n",
       "        "
      ],
      "text/plain": [
       "<IPython.core.display.HTML object>"
      ]
     },
     "metadata": {},
     "output_type": "display_data"
    }
   ],
   "source": [
    "pandas_dataframe = create_dataframe()\n",
    "vincent_map = create_vincent_us_state_map('2009',pandas_dataframe)\n",
    "vincent_map.display()"
   ]
  },
  {
   "cell_type": "code",
   "execution_count": 114,
   "metadata": {
    "collapsed": false
   },
   "outputs": [],
   "source": [
    "pandas_dataframe['raw_growth_2014'] = pandas_dataframe['2015'] - pandas_dataframe['2013']\n",
    "pandas_dataframe['population_ajusted_growth_2014'] = (pandas_dataframe['2015'] - pandas_dataframe['2013']) / (pandas_dataframe['2013']/1000)\n",
    "#print(pandas_dataframe['growth_2009'])"
   ]
  },
  {
   "cell_type": "code",
   "execution_count": 118,
   "metadata": {
    "collapsed": false
   },
   "outputs": [
    {
     "data": {
      "text/html": [
       "<div id=\"vis93d167ff86c847a68df91922b35bdf0d\"></div>\n",
       "<script>\n",
       "   ( function() {\n",
       "     var _do_plot = function() {\n",
       "       if (typeof vg === 'undefined') {\n",
       "         window.addEventListener('vincent_libs_loaded', _do_plot)\n",
       "         return;\n",
       "       }\n",
       "       vg.parse.spec({\"axes\": [], \"data\": [{\"name\": \"table\", \"values\": [{\"x\": \"Alabama\", \"y\": 28446}, {\"x\": \"Alaska\", \"y\": 990}, {\"x\": \"Arizona\", \"y\": 197266}, {\"x\": \"Arkansas\", \"y\": 20247}, {\"x\": \"California\", \"y\": 730690}, {\"x\": \"Colorado\", \"y\": 185442}, {\"x\": \"Connecticut\", \"y\": -6282}, {\"x\": \"Delaware\", \"y\": 20581}, {\"x\": \"District of Columbia\", \"y\": 22688}, {\"x\": \"Florida\", \"y\": 676805}, {\"x\": \"Georgia\", \"y\": 223298}, {\"x\": \"Hawaii\", \"y\": 22838}, {\"x\": \"Idaho\", \"y\": 42145}, {\"x\": \"Illinois\", \"y\": -29585}, {\"x\": \"Indiana\", \"y\": 49162}, {\"x\": \"Iowa\", \"y\": 31675}, {\"x\": \"Kansas\", \"y\": 17011}, {\"x\": \"Kentucky\", \"y\": 26592}, {\"x\": \"Louisiana\", \"y\": 43233}, {\"x\": \"Maine\", \"y\": 550}, {\"x\": \"Maryland\", \"y\": 70361}, {\"x\": \"Massachusetts\", \"y\": 85612}, {\"x\": \"Michigan\", \"y\": 22070}, {\"x\": \"Minnesota\", \"y\": 69053}, {\"x\": \"Mississippi\", \"y\": 1357}, {\"x\": \"Missouri\", \"y\": 39964}, {\"x\": \"Montana\", \"y\": 18547}, {\"x\": \"Nebraska\", \"y\": 26890}, {\"x\": \"Nevada\", \"y\": 100479}, {\"x\": \"New Hampshire\", \"y\": 7948}, {\"x\": \"New Jersey\", \"y\": 50629}, {\"x\": \"New Mexico\", \"y\": -1781}, {\"x\": \"New York\", \"y\": 104759}, {\"x\": \"North Carolina\", \"y\": 197370}, {\"x\": \"North Dakota\", \"y\": 33301}, {\"x\": \"Ohio\", \"y\": 41191}, {\"x\": \"Oklahoma\", \"y\": 57933}, {\"x\": \"Oregon\", \"y\": 100947}, {\"x\": \"Pennsylvania\", \"y\": 18967}, {\"x\": \"Rhode Island\", \"y\": 3442}, {\"x\": \"South Carolina\", \"y\": 127648}, {\"x\": \"South Dakota\", \"y\": 13199}, {\"x\": \"Tennessee\", \"y\": 104169}, {\"x\": \"Texas\", \"y\": 968440}, {\"x\": \"Utah\", \"y\": 92234}, {\"x\": \"Vermont\", \"y\": -1087}, {\"x\": \"Virginia\", \"y\": 115118}, {\"x\": \"Washington\", \"y\": 197070}, {\"x\": \"West Virginia\", \"y\": -8857}, {\"x\": \"Wisconsin\", \"y\": 27684}, {\"x\": \"Wyoming\", \"y\": 2976}]}, {\"format\": {\"feature\": \"us_states.geo\", \"type\": \"topojson\"}, \"name\": \"states\", \"transform\": [{\"as\": \"value\", \"default\": \"noval\", \"key\": \"data.properties.NAME\", \"type\": \"zip\", \"with\": \"table\", \"withKey\": \"data.x\"}, {\"test\": \"d.path!='noval' && d.value!='noval'\", \"type\": \"filter\"}, {\"projection\": \"albersUsa\", \"scale\": 800, \"translate\": [480.0, 250.0], \"type\": \"geopath\", \"value\": \"data\"}], \"url\": \"https://raw.githubusercontent.com/wrobstory/vincent_map_data/master/us_states.topo.json\"}], \"height\": 500, \"legends\": [{\"fill\": \"color\", \"offset\": 0, \"properties\": {}, \"title\": \"Total populations for 2009\"}], \"marks\": [{\"from\": {\"data\": \"states\"}, \"properties\": {\"enter\": {\"path\": {\"field\": \"path\"}, \"stroke\": {\"value\": \"#000000\"}, \"strokeOpacity\": {\"value\": 0.5}}, \"update\": {\"fill\": {\"field\": \"value.data.y\", \"scale\": \"color\"}}}, \"type\": \"path\"}], \"padding\": \"auto\", \"scales\": [{\"domain\": [-20000, 1000, 5000, 50000, 100000, 400000], \"name\": \"color\", \"range\": [\"#ffffd9\", \"#edf8b1\", \"#c7e9b4\", \"#7fcdbb\", \"#41b6c4\", \"#1d91c0\", \"#225ea8\", \"#253494\", \"#081d58\"], \"type\": \"threshold\"}], \"width\": 960}, function(chart) {\n",
       "         chart({el: \"#vis93d167ff86c847a68df91922b35bdf0d\"}).update();\n",
       "       });\n",
       "     };\n",
       "     _do_plot();\n",
       "   })();\n",
       "</script>\n",
       "<style>.vega canvas {width: 100%;}</style>\n",
       "        "
      ],
      "text/plain": [
       "<IPython.core.display.HTML object>"
      ]
     },
     "metadata": {},
     "output_type": "display_data"
    }
   ],
   "source": [
    "vincent_map.rebind(column='raw_growth_2014', brew='YlGnBu')\n",
    "# vincent_map.legend(title='Raw growth for 2009')\n",
    "vincent_map.scales[0].type='threshold'\n",
    "vincent_map.scales[0].domain = [-20000,1000, 5000,50000,100000, 400000]\n",
    "vincent_map.to_json('vega.json')\n",
    "vincent_map.display()\n"
   ]
  },
  {
   "cell_type": "code",
   "execution_count": 121,
   "metadata": {
    "collapsed": false
   },
   "outputs": [
    {
     "data": {
      "text/html": [
       "<div id=\"vis3cb3f09184a842399857d4d0d6792d03\"></div>\n",
       "<script>\n",
       "   ( function() {\n",
       "     var _do_plot = function() {\n",
       "       if (typeof vg === 'undefined') {\n",
       "         window.addEventListener('vincent_libs_loaded', _do_plot)\n",
       "         return;\n",
       "       }\n",
       "       vg.parse.spec({\"axes\": [], \"data\": [{\"name\": \"table\", \"values\": [{\"x\": \"Alabama\", \"y\": 5.888791154102456}, {\"x\": \"Alaska\", \"y\": 1.3424784593229027}, {\"x\": \"Arizona\", \"y\": 29.749959243222424}, {\"x\": \"Arkansas\", \"y\": 6.844927089879941}, {\"x\": \"California\", \"y\": 19.021387131317937}, {\"x\": \"Colorado\", \"y\": 35.18067845768234}, {\"x\": \"Connecticut\", \"y\": -1.746373814067066}, {\"x\": \"Delaware\", \"y\": 22.241241990894288}, {\"x\": \"District of Columbia\", \"y\": 34.92933460602888}, {\"x\": \"Florida\", \"y\": 34.54061802242439}, {\"x\": \"Georgia\", \"y\": 22.348657797449487}, {\"x\": \"Hawaii\", \"y\": 16.211362434472747}, {\"x\": \"Idaho\", \"y\": 26.13181546207337}, {\"x\": \"Illinois\", \"y\": -2.2952648573498906}, {\"x\": \"Indiana\", \"y\": 7.482210687193917}, {\"x\": \"Iowa\", \"y\": 10.243436439274774}, {\"x\": \"Kansas\", \"y\": 5.876744178012388}, {\"x\": \"Kentucky\", \"y\": 6.045697396839832}, {\"x\": \"Louisiana\", \"y\": 9.342643778237495}, {\"x\": \"Maine\", \"y\": 0.4139141376512856}, {\"x\": \"Maryland\", \"y\": 11.853188320833418}, {\"x\": \"Massachusetts\", \"y\": 12.761130513459166}, {\"x\": \"Michigan\", \"y\": 2.2291789934777073}, {\"x\": \"Minnesota\", \"y\": 12.739134341018728}, {\"x\": \"Mississippi\", \"y\": 0.4536980570890572}, {\"x\": \"Missouri\", \"y\": 6.612496831415417}, {\"x\": \"Montana\", \"y\": 18.283678462779054}, {\"x\": \"Nebraska\", \"y\": 14.38506392767346}, {\"x\": \"Nevada\", \"y\": 36.00925469992109}, {\"x\": \"New Hampshire\", \"y\": 6.009102868462039}, {\"x\": \"New Jersey\", \"y\": 5.683935934501084}, {\"x\": \"New Mexico\", \"y\": -0.8534230361926121}, {\"x\": \"New York\", \"y\": 5.3201376139148016}, {\"x\": \"North Carolina\", \"y\": 20.046860310446508}, {\"x\": \"North Dakota\", \"y\": 46.019628924333844}, {\"x\": \"Ohio\", \"y\": 3.5594689079859445}, {\"x\": \"Oklahoma\", \"y\": 15.034235954954124}, {\"x\": \"Oregon\", \"y\": 25.6991418089984}, {\"x\": \"Pennsylvania\", \"y\": 1.4837052909304593}, {\"x\": \"Rhode Island\", \"y\": 3.269203005919138}, {\"x\": \"South Carolina\", \"y\": 26.769016155611265}, {\"x\": \"South Dakota\", \"y\": 15.615128893726265}, {\"x\": \"Tennessee\", \"y\": 16.03554731817251}, {\"x\": \"Texas\", \"y\": 36.54397620226565}, {\"x\": \"Utah\", \"y\": 31.76446480937154}, {\"x\": \"Vermont\", \"y\": -1.7332957015223343}, {\"x\": \"Virginia\", \"y\": 13.923529322830836}, {\"x\": \"Washington\", \"y\": 28.260728342942155}, {\"x\": \"West Virginia\", \"y\": -4.779855206599082}, {\"x\": \"Wisconsin\", \"y\": 4.819929059084871}, {\"x\": \"Wyoming\", \"y\": 5.103484465754693}]}, {\"format\": {\"feature\": \"us_states.geo\", \"type\": \"topojson\"}, \"name\": \"states\", \"transform\": [{\"as\": \"value\", \"default\": \"noval\", \"key\": \"data.properties.NAME\", \"type\": \"zip\", \"with\": \"table\", \"withKey\": \"data.x\"}, {\"test\": \"d.path!='noval' && d.value!='noval'\", \"type\": \"filter\"}, {\"projection\": \"albersUsa\", \"scale\": 800, \"translate\": [480.0, 250.0], \"type\": \"geopath\", \"value\": \"data\"}], \"url\": \"https://raw.githubusercontent.com/wrobstory/vincent_map_data/master/us_states.topo.json\"}], \"height\": 500, \"legends\": [{\"fill\": \"color\", \"offset\": 0, \"properties\": {}, \"title\": \"Total populations for 2009\"}], \"marks\": [{\"from\": {\"data\": \"states\"}, \"properties\": {\"enter\": {\"path\": {\"field\": \"path\"}, \"stroke\": {\"value\": \"#000000\"}, \"strokeOpacity\": {\"value\": 0.5}}, \"update\": {\"fill\": {\"field\": \"value.data.y\", \"scale\": \"color\"}}}, \"type\": \"path\"}], \"padding\": \"auto\", \"scales\": [{\"domain\": [-4, -2, 0, 2, 5, 10, 20, 30], \"name\": \"color\", \"range\": [\"#ffffd9\", \"#edf8b1\", \"#c7e9b4\", \"#7fcdbb\", \"#41b6c4\", \"#1d91c0\", \"#225ea8\", \"#253494\", \"#081d58\"], \"type\": \"threshold\"}], \"width\": 960}, function(chart) {\n",
       "         chart({el: \"#vis3cb3f09184a842399857d4d0d6792d03\"}).update();\n",
       "       });\n",
       "     };\n",
       "     _do_plot();\n",
       "   })();\n",
       "</script>\n",
       "<style>.vega canvas {width: 100%;}</style>\n",
       "        "
      ],
      "text/plain": [
       "<IPython.core.display.HTML object>"
      ]
     },
     "metadata": {},
     "output_type": "display_data"
    }
   ],
   "source": [
    "vincent_map.rebind(column='population_ajusted_growth_2014', brew='YlGnBu')\n",
    "vincent_map.scales[0].type='threshold'\n",
    "vincent_map.scales[0].domain = [-4,-2,0,2,5,10,20,30]\n",
    "vincent_map.to_json('vega.json')\n",
    "vincent_map.display()"
   ]
  },
  {
   "cell_type": "code",
   "execution_count": null,
   "metadata": {
    "collapsed": true
   },
   "outputs": [],
   "source": []
  },
  {
   "cell_type": "code",
   "execution_count": null,
   "metadata": {
    "collapsed": true
   },
   "outputs": [],
   "source": []
  }
 ],
 "metadata": {
  "kernelspec": {
   "display_name": "Python 3",
   "language": "python",
   "name": "python3"
  },
  "language_info": {
   "codemirror_mode": {
    "name": "ipython",
    "version": 3
   },
   "file_extension": ".py",
   "mimetype": "text/x-python",
   "name": "python",
   "nbconvert_exporter": "python",
   "pygments_lexer": "ipython3",
   "version": "3.5.1"
  }
 },
 "nbformat": 4,
 "nbformat_minor": 0
}
